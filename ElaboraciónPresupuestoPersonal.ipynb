{
  "nbformat": 4,
  "nbformat_minor": 0,
  "metadata": {
    "colab": {
      "private_outputs": true,
      "provenance": [],
      "authorship_tag": "ABX9TyP9QcoV6WI5HRI5c9JXOPq0",
      "include_colab_link": true
    },
    "kernelspec": {
      "name": "python3",
      "display_name": "Python 3"
    },
    "language_info": {
      "name": "python"
    }
  },
  "cells": [
    {
      "cell_type": "markdown",
      "metadata": {
        "id": "view-in-github",
        "colab_type": "text"
      },
      "source": [
        "<a href=\"https://colab.research.google.com/github/WellcomePeujio/Elaboracion-de-un-Presupuesto-Personal/blob/main/Elaboraci%C3%B3nPresupuestoPersonal.ipynb\" target=\"_parent\"><img src=\"https://colab.research.google.com/assets/colab-badge.svg\" alt=\"Open In Colab\"/></a>"
      ]
    },
    {
      "cell_type": "markdown",
      "source": [
        "# Elaboración de un Presupuesto Personal\n",
        "\n",
        "Imagina que acabas de recibir tu sueldo mensual y quieres asegurarte de que cada dólar cuenta. En este ejercicio, aprenderemos a crear un presupuesto personal mensual que te ayude a gestionar tus finanzas de manera inteligente y eficiente.\n",
        "\n",
        "## Datos\n",
        "\n",
        "Aquí están tus ingresos y gastos mensuales estimados:\n",
        "\n",
        "| Categoría        | Tipo        | Monto Mensual ($) |\n",
        "|------------------|-------------|-------------------|\n",
        "| Ingresos         | Ingreso     | 3,500             |\n",
        "| Alquiler         | Gasto       | 800               |\n",
        "| Alimentación     | Gasto       | 400               |\n",
        "| Entretenimiento  | Gasto       | 200               |\n",
        "| Ahorro           | Gasto       | 600               |\n",
        "\n",
        "## Se pide\n",
        "\n",
        "1. **Calcular el ahorro disponible mensual después de cubrir todos los gastos.**\n",
        "2. **Graficar la distribución del presupuesto en un gráfico de sectores para visualizar en qué estás gastando más y cómo puedes mejorar tu planificación financiera.**"
      ],
      "metadata": {
        "id": "AnN5YtkEVX6w"
      }
    },
    {
      "cell_type": "markdown",
      "source": [
        "# Resolución Matemática del Presupuesto Personal\n",
        "\n",
        "## Cálculo del Ahorro Disponible Mensual\n",
        "\n",
        "Primero, sumamos todos los gastos mensuales para determinar el total de gastos:\n",
        "\n",
        "$$ \\text{Total de Gastos} = \\text{Alquiler} + \\text{Alimentación} + \\text{Entretenimiento} + \\text{Ahorro} $$\n",
        "\n",
        "Sustituyendo los valores:\n",
        "\n",
        "$$ \\text{Total de Gastos} = 800 + 400 + 200 + 600 = 2000 \\text{ dólares} $$\n",
        "\n",
        "Luego, calculamos el ahorro disponible mensual restando los gastos del ingreso total:\n",
        "\n",
        "$$ \\text{Ahorro Disponible} = \\text{Ingresos} - \\text{Total de Gastos} $$\n",
        "\n",
        "Sustituyendo los valores:\n",
        "\n",
        "$$ \\text{Ahorro Disponible} = 3500 - 2000 = 1500 \\text{ dólares} $$\n",
        "\n",
        "Por lo tanto, después de cubrir todos los gastos, te quedarían \\$1,500 disponibles cada mes.\n",
        "\n",
        "## Graficar la Distribución del Presupuesto\n",
        "\n",
        "Para visualizar cómo se distribuye tu presupuesto mensual, podemos crear un gráfico de sectores. Los porcentajes de cada categoría se calculan como sigue:\n",
        "\n",
        "1. **Alquiler:**\n",
        "\n",
        "$$ \\text{Porcentaje} = \\left(\\frac{800}{3500}\\right) \\times 100 \\approx 22.86\\% $$\n",
        "\n",
        "2. **Alimentación:**\n",
        "\n",
        "$$ \\text{Porcentaje} = \\left(\\frac{400}{3500}\\right) \\times 100 \\approx 11.43\\% $$\n",
        "\n",
        "3. **Entretenimiento:**\n",
        "\n",
        "$$ \\text{Porcentaje} = \\left(\\frac{200}{3500}\\right) \\times 100 \\approx 5.71\\% $$\n",
        "\n",
        "4. **Ahorro:**\n",
        "\n",
        "$$ \\text{Porcentaje} = \\left(\\frac{600}{3500}\\right) \\times 100 \\approx 17.14\\% $$\n",
        "\n",
        "5. **Ahorro Disponible:**\n",
        "\n",
        "$$ \\text{Porcentaje} = \\left(\\frac{1500}{3500}\\right) \\times 100 \\approx 42.86\\% $$\n",
        "\n",
        "Estos valores se utilizarán para crear un gráfico de sectores que visualice la distribución de tu presupuesto."
      ],
      "metadata": {
        "id": "czwRbZnvVnXe"
      }
    },
    {
      "cell_type": "code",
      "source": [
        "import matplotlib.pyplot as plt\n",
        "\n",
        "# Datos del problema\n",
        "ingresos = 3500\n",
        "alquiler = 800\n",
        "alimentacion = 400\n",
        "entretenimiento = 200\n",
        "ahorro = 600\n",
        "\n",
        "# Calcular el total de gastos\n",
        "total_gastos = alquiler + alimentacion + entretenimiento + ahorro\n",
        "\n",
        "# Calcular el ahorro disponible\n",
        "ahorro_disponible = ingresos - total_gastos\n",
        "\n",
        "# Distribución del presupuesto\n",
        "categorias = ['Alquiler', 'Alimentación', 'Entretenimiento', 'Ahorro', 'Ahorro Disponible']\n",
        "montos = [alquiler, alimentacion, entretenimiento, ahorro, ahorro_disponible]\n",
        "\n",
        "# Crear gráfico de sectores\n",
        "plt.figure(figsize=(8, 8))\n",
        "plt.pie(montos, labels=categorias, autopct='%1.1f%%', startangle=140)\n",
        "plt.title('Distribución del Presupuesto Mensual')\n",
        "plt.show()\n",
        "\n",
        "# Resultados\n",
        "print(\"Total de Gastos:\", total_gastos)\n",
        "print(\"Ahorro Disponible:\", ahorro_disponible)"
      ],
      "metadata": {
        "collapsed": true,
        "id": "eVgDhfiYWth7"
      },
      "execution_count": null,
      "outputs": []
    }
  ]
}